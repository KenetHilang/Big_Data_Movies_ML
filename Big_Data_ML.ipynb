{
  "cells": [
    {
      "cell_type": "markdown",
      "metadata": {
        "id": "Py2s-PqBK56F"
      },
      "source": [
        "# **Big Data Machine Learning**"
      ]
    },
    {
      "cell_type": "markdown",
      "metadata": {
        "id": "RLRr0_jZK-6V"
      },
      "source": [
        "| Nama                    | NRP         |\n",
        "|-------------------------|-------------|\n",
        "| Nathan Kho Pancras      | 5027231002  |\n",
        "| Michael Kenneth Salim   | 5027231008  |\n",
        "| Fico Simhanandi         | 5027231030  |\n"
      ]
    },
    {
      "cell_type": "markdown",
      "metadata": {
        "id": "gq6g0ZEoLK-U"
      },
      "source": [
        "## **Import Library**"
      ]
    },
    {
      "cell_type": "code",
      "execution_count": 18,
      "metadata": {
        "id": "WfBaWu0OFuHu"
      },
      "outputs": [],
      "source": [
        "import kagglehub\n",
        "import pandas as pd\n",
        "import os\n",
        "from pyspark.sql import SparkSession\n",
        "from pyspark.ml import Pipeline\n",
        "from pyspark.ml.feature import VectorAssembler, StringIndexer, VectorIndexer, MinMaxScaler, StandardScaler\n",
        "from pyspark.ml.classification import LogisticRegression\n",
        "from pyspark.ml.tuning import ParamGridBuilder, CrossValidator\n",
        "from pyspark.ml.evaluation import BinaryClassificationEvaluator\n",
        "from scipy import stats\n",
        "import matplotlib.pyplot as plt\n",
        "import seaborn as sns"
      ]
    },
    {
      "cell_type": "code",
      "execution_count": 19,
      "metadata": {
        "colab": {
          "base_uri": "https://localhost:8080/"
        },
        "id": "HHEO_pRhNNhi",
        "outputId": "438fa62d-0b84-4f06-f060-5b156c6e42d8"
      },
      "outputs": [
        {
          "name": "stdout",
          "output_type": "stream",
          "text": [
            "Path to dataset files: C:\\Users\\PuroFuro\\.cache\\kagglehub\\datasets\\mohammedalsubaie\\movies\\versions\\1\n"
          ]
        }
      ],
      "source": [
        "path = kagglehub.dataset_download(\"mohammedalsubaie/movies\")\n",
        "\n",
        "print(\"Path to dataset files:\", path)"
      ]
    },
    {
      "cell_type": "markdown",
      "metadata": {
        "id": "HD6q-TNcLOkV"
      },
      "source": [
        "### **Inisiasi Spark Session**"
      ]
    },
    {
      "cell_type": "code",
      "execution_count": 20,
      "metadata": {
        "id": "t46htu-BFuz5"
      },
      "outputs": [],
      "source": [
        "spark = SparkSession.builder.appName(\"Movies\").getOrCreate()"
      ]
    },
    {
      "cell_type": "code",
      "execution_count": 21,
      "metadata": {
        "colab": {
          "base_uri": "https://localhost:8080/",
          "height": 219
        },
        "id": "3ZxmLH6IHA1p",
        "outputId": "84cc7853-e836-4782-829e-7c04dbb6031d"
      },
      "outputs": [
        {
          "data": {
            "text/html": [
              "\n",
              "            <div>\n",
              "                <p><b>SparkSession - in-memory</b></p>\n",
              "                \n",
              "        <div>\n",
              "            <p><b>SparkContext</b></p>\n",
              "\n",
              "            <p><a href=\"http://192.168.56.1:4040\">Spark UI</a></p>\n",
              "\n",
              "            <dl>\n",
              "              <dt>Version</dt>\n",
              "                <dd><code>v3.5.5</code></dd>\n",
              "              <dt>Master</dt>\n",
              "                <dd><code>local[*]</code></dd>\n",
              "              <dt>AppName</dt>\n",
              "                <dd><code>Movies</code></dd>\n",
              "            </dl>\n",
              "        </div>\n",
              "        \n",
              "            </div>\n",
              "        "
            ],
            "text/plain": [
              "<pyspark.sql.session.SparkSession at 0x292e5c7c090>"
            ]
          },
          "execution_count": 21,
          "metadata": {},
          "output_type": "execute_result"
        }
      ],
      "source": [
        "spark"
      ]
    },
    {
      "cell_type": "markdown",
      "metadata": {
        "id": "eZm4LlbSLRv7"
      },
      "source": [
        "### **Membaca isi data**"
      ]
    },
    {
      "cell_type": "code",
      "execution_count": 22,
      "metadata": {
        "id": "mN2rswMWFw-s"
      },
      "outputs": [],
      "source": [
        "df = spark.read.csv(f\"{path}/Movies.csv\", header=True, inferSchema=True)\n",
        "pandas_df = pd.read_csv(f\"{path}/Movies.csv\")"
      ]
    },
    {
      "cell_type": "code",
      "execution_count": 23,
      "metadata": {
        "colab": {
          "base_uri": "https://localhost:8080/"
        },
        "id": "WcgKins9HuXw",
        "outputId": "83f75065-4a4c-4718-c285-66592a1cad3c"
      },
      "outputs": [
        {
          "name": "stdout",
          "output_type": "stream",
          "text": [
            "root\n",
            " |-- movie_id: integer (nullable = true)\n",
            " |-- title: string (nullable = true)\n",
            " |-- vote_average: string (nullable = true)\n",
            " |-- vote_count: string (nullable = true)\n",
            " |-- status: string (nullable = true)\n",
            " |-- release_date: string (nullable = true)\n",
            " |-- revenue: string (nullable = true)\n",
            " |-- adult: string (nullable = true)\n",
            " |-- budget: string (nullable = true)\n",
            " |-- imdb_id: string (nullable = true)\n",
            " |-- original_language: string (nullable = true)\n",
            " |-- original_title: string (nullable = true)\n",
            " |-- overview: string (nullable = true)\n",
            " |-- popularity: string (nullable = true)\n",
            " |-- genres: string (nullable = true)\n",
            " |-- production_companies: string (nullable = true)\n",
            " |-- production_countries: string (nullable = true)\n",
            " |-- spoken_languages: string (nullable = true)\n",
            "\n"
          ]
        }
      ],
      "source": [
        "df.printSchema()"
      ]
    },
    {
      "cell_type": "code",
      "execution_count": 24,
      "metadata": {
        "colab": {
          "base_uri": "https://localhost:8080/"
        },
        "id": "8Mu3LUwcFzvB",
        "outputId": "9024dfcb-088a-485b-a217-6805b1770b4c"
      },
      "outputs": [
        {
          "name": "stdout",
          "output_type": "stream",
          "text": [
            "+--------+---------------+------------+----------+--------+------------+----------+-----+---------+---------+-----------------+---------------+--------------------+--------------------+--------------------+--------------------+--------------------+--------------------+\n",
            "|movie_id|          title|vote_average|vote_count|  status|release_date|   revenue|adult|   budget|  imdb_id|original_language| original_title|            overview|          popularity|              genres|production_companies|production_countries|    spoken_languages|\n",
            "+--------+---------------+------------+----------+--------+------------+----------+-----+---------+---------+-----------------+---------------+--------------------+--------------------+--------------------+--------------------+--------------------+--------------------+\n",
            "| 4520010|      Inception|       8.364|     34495|Released|   7/15/2010| 825532764|FALSE|160000000|tt1375666|               en|      Inception|\"Cobb, a skilled ...| the implantation...|              83.952|Action, Science F...|Legendary Picture...|United Kingdom, U...|\n",
            "| 4520011|   Interstellar|       8.417|     32571|Released|   11/5/2014| 701729206|FALSE|165000000|tt0816692|               en|   Interstellar|The adventures of...|             140.241|Adventure, Drama,...|Legendary Picture...|United Kingdom, U...|             English|\n",
            "| 4520012|The Dark Knight|       8.512|     30619|Released|   7/16/2008|1004558444|FALSE|185000000|tt0468569|               en|The Dark Knight|Batman raises the...|             130.643|Drama, Action, Cr...|DC Comics, Legend...|United Kingdom, U...|   English, Mandarin|\n",
            "| 4520013|         Avatar|       7.573|     29815|Released|  12/15/2009|2923706026|FALSE|237000000|tt0499549|               en|         Avatar|In the 22nd centu...|              79.932|Action, Adventure...|Dune Entertainmen...|United States of ...|    English, Spanish|\n",
            "| 4520014|   The Avengers|        7.71|     29166|Released|   4/25/2012|1518815515|FALSE|220000000|tt0848228|               en|   The Avengers|When an unexpecte...|              98.082|Science Fiction, ...|      Marvel Studios|United States of ...|English, Hindi, R...|\n",
            "+--------+---------------+------------+----------+--------+------------+----------+-----+---------+---------+-----------------+---------------+--------------------+--------------------+--------------------+--------------------+--------------------+--------------------+\n",
            "only showing top 5 rows\n",
            "\n"
          ]
        }
      ],
      "source": [
        "df.show(5)"
      ]
    },
    {
      "cell_type": "code",
      "execution_count": 25,
      "metadata": {
        "colab": {
          "base_uri": "https://localhost:8080/"
        },
        "id": "qOWAer_ZI4RR",
        "outputId": "893086bc-234c-41ce-e12f-183fb8283c4e"
      },
      "outputs": [
        {
          "data": {
            "text/plain": [
              "(1048575, 18)"
            ]
          },
          "execution_count": 25,
          "metadata": {},
          "output_type": "execute_result"
        }
      ],
      "source": [
        "pandas_df.shape"
      ]
    },
    {
      "cell_type": "code",
      "execution_count": 26,
      "metadata": {
        "colab": {
          "base_uri": "https://localhost:8080/",
          "height": 648
        },
        "id": "bjWRqjb6Iv55",
        "outputId": "282eb832-4138-436d-b042-c2a3311aff68"
      },
      "outputs": [
        {
          "data": {
            "text/plain": [
              "movie_id                     0\n",
              "title                       13\n",
              "vote_average                 0\n",
              "vote_count                   0\n",
              "status                       0\n",
              "release_date            149422\n",
              "revenue                      0\n",
              "adult                        0\n",
              "budget                       0\n",
              "imdb_id                 471584\n",
              "original_language            0\n",
              "original_title              13\n",
              "overview                198224\n",
              "popularity                   0\n",
              "genres                  402283\n",
              "production_companies    560686\n",
              "production_countries    446049\n",
              "spoken_languages        428440\n",
              "dtype: int64"
            ]
          },
          "execution_count": 26,
          "metadata": {},
          "output_type": "execute_result"
        }
      ],
      "source": [
        "pandas_df.isnull().sum()"
      ]
    },
    {
      "cell_type": "code",
      "execution_count": 27,
      "metadata": {
        "id": "rTZA5EyZJh9O"
      },
      "outputs": [],
      "source": [
        "df = df.drop('movie_id', 'genres', 'overview', 'imdb_id', 'production_companies', 'production_countries', 'spoken_languages', 'release_date')"
      ]
    },
    {
      "cell_type": "code",
      "execution_count": 28,
      "metadata": {
        "id": "noC48FZyLYzf"
      },
      "outputs": [],
      "source": [
        "panda_df = pandas_df.drop(['movie_id', 'genres', 'overview', 'imdb_id', 'production_companies', 'production_countries', 'spoken_languages', 'release_date'], axis=1, inplace=True)"
      ]
    },
    {
      "cell_type": "code",
      "execution_count": 29,
      "metadata": {
        "colab": {
          "base_uri": "https://localhost:8080/"
        },
        "id": "-aoOmoRRKJee",
        "outputId": "9e996340-4662-46b6-8ff2-a97b0e6216d1"
      },
      "outputs": [
        {
          "name": "stdout",
          "output_type": "stream",
          "text": [
            "root\n",
            " |-- title: string (nullable = true)\n",
            " |-- vote_average: string (nullable = true)\n",
            " |-- vote_count: string (nullable = true)\n",
            " |-- status: string (nullable = true)\n",
            " |-- revenue: string (nullable = true)\n",
            " |-- adult: string (nullable = true)\n",
            " |-- budget: string (nullable = true)\n",
            " |-- original_language: string (nullable = true)\n",
            " |-- original_title: string (nullable = true)\n",
            " |-- popularity: string (nullable = true)\n",
            "\n"
          ]
        }
      ],
      "source": [
        "df.printSchema()"
      ]
    },
    {
      "cell_type": "code",
      "execution_count": 30,
      "metadata": {
        "colab": {
          "base_uri": "https://localhost:8080/",
          "height": 397
        },
        "id": "pJFVYkH7LsPo",
        "outputId": "3396e13d-d09d-40a1-b58e-7072b33b008e"
      },
      "outputs": [
        {
          "data": {
            "text/plain": [
              "title                13\n",
              "vote_average          0\n",
              "vote_count            0\n",
              "status                0\n",
              "revenue               0\n",
              "adult                 0\n",
              "budget                0\n",
              "original_language     0\n",
              "original_title       13\n",
              "popularity            0\n",
              "dtype: int64"
            ]
          },
          "execution_count": 30,
          "metadata": {},
          "output_type": "execute_result"
        }
      ],
      "source": [
        "pandas_df.isnull().sum()"
      ]
    },
    {
      "cell_type": "code",
      "execution_count": 31,
      "metadata": {
        "colab": {
          "base_uri": "https://localhost:8080/",
          "height": 836
        },
        "id": "Qy4UIuUJL8I-",
        "outputId": "c66641e0-025a-4e37-a101-75ea4d4fc98f"
      },
      "outputs": [
        {
          "data": {
            "image/png": "[encoded data removed]",
            "text/plain": [
              "<Figure size 1000x1000 with 2 Axes>"
            ]
          },
          "metadata": {},
          "output_type": "display_data"
        }
      ],
      "source": [
        "numerical_df = pandas_df.select_dtypes(include=['number'])\n",
        "correlation_matrix = numerical_df.corr()\n",
        "\n",
        "plt.figure(figsize = (10,10))\n",
        "sns.heatmap(correlation_matrix, cmap = 'coolwarm', annot=True, fmt=\".2f\", annot_kws={\"size\": 7})\n",
        "plt.show()"
      ]
    },
    {
      "cell_type": "code",
      "execution_count": 32,
      "metadata": {
        "colab": {
          "base_uri": "https://localhost:8080/",
          "height": 206
        },
        "id": "IzfhnT1oPqmq",
        "outputId": "d9893b9f-5b6a-4f70-9115-9787dd683440"
      },
      "outputs": [
        {
          "data": {
            "text/html": [
              "<div>\n",
              "<style scoped>\n",
              "    .dataframe tbody tr th:only-of-type {\n",
              "        vertical-align: middle;\n",
              "    }\n",
              "\n",
              "    .dataframe tbody tr th {\n",
              "        vertical-align: top;\n",
              "    }\n",
              "\n",
              "    .dataframe thead th {\n",
              "        text-align: right;\n",
              "    }\n",
              "</style>\n",
              "<table border=\"1\" class=\"dataframe\">\n",
              "  <thead>\n",
              "    <tr style=\"text-align: right;\">\n",
              "      <th></th>\n",
              "      <th>title</th>\n",
              "      <th>vote_average</th>\n",
              "      <th>vote_count</th>\n",
              "      <th>status</th>\n",
              "      <th>revenue</th>\n",
              "      <th>adult</th>\n",
              "      <th>budget</th>\n",
              "      <th>original_language</th>\n",
              "      <th>original_title</th>\n",
              "      <th>popularity</th>\n",
              "    </tr>\n",
              "  </thead>\n",
              "  <tbody>\n",
              "    <tr>\n",
              "      <th>0</th>\n",
              "      <td>Inception</td>\n",
              "      <td>8.364</td>\n",
              "      <td>34495</td>\n",
              "      <td>Released</td>\n",
              "      <td>825532764</td>\n",
              "      <td>False</td>\n",
              "      <td>160000000</td>\n",
              "      <td>en</td>\n",
              "      <td>Inception</td>\n",
              "      <td>83.952</td>\n",
              "    </tr>\n",
              "    <tr>\n",
              "      <th>1</th>\n",
              "      <td>Interstellar</td>\n",
              "      <td>8.417</td>\n",
              "      <td>32571</td>\n",
              "      <td>Released</td>\n",
              "      <td>701729206</td>\n",
              "      <td>False</td>\n",
              "      <td>165000000</td>\n",
              "      <td>en</td>\n",
              "      <td>Interstellar</td>\n",
              "      <td>140.241</td>\n",
              "    </tr>\n",
              "    <tr>\n",
              "      <th>2</th>\n",
              "      <td>The Dark Knight</td>\n",
              "      <td>8.512</td>\n",
              "      <td>30619</td>\n",
              "      <td>Released</td>\n",
              "      <td>1004558444</td>\n",
              "      <td>False</td>\n",
              "      <td>185000000</td>\n",
              "      <td>en</td>\n",
              "      <td>The Dark Knight</td>\n",
              "      <td>130.643</td>\n",
              "    </tr>\n",
              "    <tr>\n",
              "      <th>3</th>\n",
              "      <td>Avatar</td>\n",
              "      <td>7.573</td>\n",
              "      <td>29815</td>\n",
              "      <td>Released</td>\n",
              "      <td>2923706026</td>\n",
              "      <td>False</td>\n",
              "      <td>237000000</td>\n",
              "      <td>en</td>\n",
              "      <td>Avatar</td>\n",
              "      <td>79.932</td>\n",
              "    </tr>\n",
              "    <tr>\n",
              "      <th>4</th>\n",
              "      <td>The Avengers</td>\n",
              "      <td>7.710</td>\n",
              "      <td>29166</td>\n",
              "      <td>Released</td>\n",
              "      <td>1518815515</td>\n",
              "      <td>False</td>\n",
              "      <td>220000000</td>\n",
              "      <td>en</td>\n",
              "      <td>The Avengers</td>\n",
              "      <td>98.082</td>\n",
              "    </tr>\n",
              "  </tbody>\n",
              "</table>\n",
              "</div>"
            ],
            "text/plain": [
              "             title  vote_average  vote_count    status     revenue  adult  \\\n",
              "0        Inception         8.364       34495  Released   825532764  False   \n",
              "1     Interstellar         8.417       32571  Released   701729206  False   \n",
              "2  The Dark Knight         8.512       30619  Released  1004558444  False   \n",
              "3           Avatar         7.573       29815  Released  2923706026  False   \n",
              "4     The Avengers         7.710       29166  Released  1518815515  False   \n",
              "\n",
              "      budget original_language   original_title  popularity  \n",
              "0  160000000                en        Inception      83.952  \n",
              "1  165000000                en     Interstellar     140.241  \n",
              "2  185000000                en  The Dark Knight     130.643  \n",
              "3  237000000                en           Avatar      79.932  \n",
              "4  220000000                en     The Avengers      98.082  "
            ]
          },
          "execution_count": 32,
          "metadata": {},
          "output_type": "execute_result"
        }
      ],
      "source": [
        "pandas_df.head()"
      ]
    },
    {
      "cell_type": "code",
      "execution_count": 33,
      "metadata": {
        "colab": {
          "base_uri": "https://localhost:8080/"
        },
        "id": "lQJpfhqsQ_qg",
        "outputId": "741ed768-45e4-40ea-e349-c97ad491019c"
      },
      "outputs": [
        {
          "data": {
            "text/plain": [
              "array(['en', 'ko', 'fr', 'ja', 'it', 'es', 'pl', 'pt', 'hi', 'tr', 'da',\n",
              "       'de', 'cn', 'id', 'zh', 'sv', 'el', 'ru', 'sr', 'fa', 'th', 'ar',\n",
              "       'no', 'nb', 'fi', 'te', 'la', 'nl', 'hu', 'he', 'is', 'ro', 'gl',\n",
              "       'uk', 'eu', 'et', 'bs', 'bn', 'xx', 'sh', 'km', 'cs', 'tn', 'ml',\n",
              "       'mk', 'ga', 'hy', 'ku', 'ka', 'ta', 'kn', 'tl', 'vi', 'ca', 'dz',\n",
              "       'sw', 'wo', 'kk', 'sk', 'lv', 'mi', 'bo', 'ps', 'mn', 'lt', 'ur',\n",
              "       'sl', 'sc', 'af', 'hr', 'iu', 'se', 'ms', 'bm', 'mr', 'bg', 'am',\n",
              "       'lo', 'cy', 'xh', 'qu', 'yi', 'yo', 'pa', 'sq', 'eo', 'gu', 'zu',\n",
              "       'st', 'ne', 'ak', 'mt', 'as', 'rw', 'ln', 'ay', 'si', 'mo', 'so',\n",
              "       'ff', 'ky', 'kl', 'ik', 'az', 'ab', 'jv', 'fo', 'li', 'sn', 'my',\n",
              "       'tg', 'su', 'ks', 'lb', 'ht', 'sm', 'sa', 'tk', 'ha', 'rm', 'fy',\n",
              "       'bi', 'om', 'gd', 'ny', 'or', 'be', 'uz', 'cr', 'mg', 'mh', 'gn',\n",
              "       'ia', 'tw', 'co', 'nn', 'nv', 'os', 'tt', 'ug', 'ig', 'dv', 'ty',\n",
              "       'nd', 'sg', 'kw', 'ba', 'oc', 'ie', 'sd', 'aa', 'lg', 'fj', 'br',\n",
              "       'oj', 'ce', 'to', 'kg', 'nr', 'ss', 'ti', 'cv', 'za', 'kv', 'kj',\n",
              "       'av', 'ch', 'hz', 'ts', 'ii', 'gv', 'ki', 'rn', 'an'], dtype=object)"
            ]
          },
          "execution_count": 33,
          "metadata": {},
          "output_type": "execute_result"
        }
      ],
      "source": [
        "pandas_df['original_language'].unique()"
      ]
    },
    {
      "cell_type": "code",
      "execution_count": 35,
      "metadata": {
        "colab": {
          "base_uri": "https://localhost:8080/",
          "height": 1000
        },
        "id": "0krvbKx7Rd2Q",
        "outputId": "00d2200c-ca4e-41f1-8135-c993bbfd5f87"
      },
      "outputs": [
        {
          "name": "stdout",
          "output_type": "stream",
          "text": [
            "Numerical columns: ['vote_average', 'vote_count', 'revenue', 'budget', 'popularity']\n"
          ]
        }
      ],
      "source": [
        "# Cast string columns to numeric types\n",
        "df = df.withColumn(\"vote_average\", df[\"vote_average\"].cast(\"double\"))\n",
        "df = df.withColumn(\"vote_count\", df[\"vote_count\"].cast(\"int\"))\n",
        "df = df.withColumn(\"revenue\", df[\"revenue\"].cast(\"double\"))\n",
        "df = df.withColumn(\"budget\", df[\"budget\"].cast(\"double\"))\n",
        "df = df.withColumn(\"popularity\", df[\"popularity\"].cast(\"double\"))\n",
        "\n",
        "# Drop rows with null values in numerical columns\n",
        "df = df.na.drop(subset=[\"vote_average\", \"vote_count\", \"revenue\", \"budget\", \"popularity\"])\n",
        "\n",
        "# Get numerical columns after casting\n",
        "numerical_cols = [\"vote_average\", \"vote_count\", \"revenue\", \"budget\", \"popularity\"]\n",
        "print(\"Numerical columns:\", numerical_cols)\n",
        "\n",
        "# Create feature vector with handleInvalid=\"skip\" to handle any remaining null values\n",
        "assembler = VectorAssembler(inputCols=numerical_cols, outputCol=\"features_unscaled\", handleInvalid=\"skip\")\n",
        "df_vector = assembler.transform(df)\n",
        "\n",
        "# Scale features\n",
        "scaler = StandardScaler(inputCol=\"features_unscaled\", outputCol=\"features_scaled\", withMean=True, withStd=True)\n",
        "scaler_model = scaler.fit(df_vector)\n",
        "df_scaled = scaler_model.transform(df_vector)"
      ]
    },
    {
      "cell_type": "code",
      "execution_count": null,
      "metadata": {
        "id": "wJCh_YatFxkh"
      },
      "outputs": [],
      "source": [
        "spark.stop()"
      ]
    }
  ],
  "metadata": {
    "colab": {
      "authorship_tag": "ABX9TyPx9lS7xLU4KFFSd9eMlGm3",
      "provenance": []
    },
    "kernelspec": {
      "display_name": "Python 3",
      "name": "python3"
    },
    "language_info": {
      "codemirror_mode": {
        "name": "ipython",
        "version": 3
      },
      "file_extension": ".py",
      "mimetype": "text/x-python",
      "name": "python",
      "nbconvert_exporter": "python",
      "pygments_lexer": "ipython3",
      "version": "3.11.9"
    }
  },
  "nbformat": 4,
  "nbformat_minor": 0
}
